{
 "cells": [
  {
   "cell_type": "markdown",
   "id": "9a2528bb",
   "metadata": {},
   "source": [
    "# Notes"
   ]
  },
  {
   "cell_type": "code",
   "execution_count": null,
   "id": "3b7dfba5",
   "metadata": {},
   "outputs": [],
   "source": [
    "import pandas as pd"
   ]
  },
  {
   "cell_type": "markdown",
   "id": "3cc5ffe6",
   "metadata": {},
   "source": [
    "## Variables\n",
    "\n",
    "- Starting Location\n",
    "- Delivery Location\n",
    "- Trucking Cost = 225+(5.40*x)\n",
    "    - x = distance in km’s from point a to point b\n",
    "- Price of oil\n",
    "- Density of oil\n",
    "- Quality adjustment calculation \n",
    "- WTI\n",
    "- Equalized (y/n)\n",
    "- Foreign Exchange"
   ]
  },
  {
   "cell_type": "code",
   "execution_count": null,
   "id": "3317ec79",
   "metadata": {},
   "outputs": [],
   "source": []
  },
  {
   "cell_type": "markdown",
   "id": "f070419c",
   "metadata": {},
   "source": [
    "# Code"
   ]
  },
  {
   "attachments": {},
   "cell_type": "markdown",
   "id": "052c58c0",
   "metadata": {},
   "source": [
    "### Formulas\n",
    "\n",
    "- Base Price = (( WTI + Diff ) x Conversion x FX )) + WADF\n",
    "- Base Price Adjusted = Base Price + Blending Uptick\n",
    "- P/L Tariff\n",
    "- Trucking Charge = ( 5.40 x Distance ) + 225\n",
    "    - Distance = kilometers from point a to point b\n",
    "- EQ = -(Density Penalty + Sulphur Penalty)\n",
    "    - Density Penalty = \n",
    "        - delivered_density<800: (800-delivered_density)* density_equalization_factor\n",
    "        - delivered_density<825: (delivered_density-825) * density_equalization_factor\n",
    "    - Sulphur Penalty= ((delivered_sulfur-0.5)/0.1) * sulphur_equalization_factor\n",
    "- Netback = Base Price Adjusted + EQ + P/L Tariff + Trucking Charge"
   ]
  },
  {
   "cell_type": "code",
   "execution_count": null,
   "id": "7b0bbf78",
   "metadata": {},
   "outputs": [],
   "source": [
    "base_price = ((wti + diff) * conversion * fx) + wadf\n",
    "base_price_adjusted = base_price + blending_uptick\n",
    "pl_tariff = pl_tariff_value\n",
    "trucking_charge = -(5.40 * distance) + 225\n",
    "eq = -(density_penalty + sulfur_penalty)\n",
    "sulfur_penalty = ((delivered_sulfur - 0.5) / 0.1) * sulfur_equalization_factor\n",
    "if delivered_density < 800:\n",
    "    density_penalty = (800 - delivered_density) * density_equalization_factor\n",
    "elif delivered_density < 825:\n",
    "    density_penalty = (delivered_density - 825) * density_equalization_factor\n",
    "else:\n",
    "    density_penalty = 0  # No penalty if density is 825 or higher ?????\n",
    "netback = base_price_adjusted + eq + pl_tariff + trucking_charge"
   ]
  },
  {
   "cell_type": "markdown",
   "id": "6e9889ac",
   "metadata": {},
   "source": [
    "## Examples"
   ]
  },
  {
   "cell_type": "code",
   "execution_count": 2,
   "id": "bdeb830c",
   "metadata": {},
   "outputs": [],
   "source": [
    "# Constants\n",
    "density_equalization_factor = 0.49\n",
    "sulphur_equalization_factor = 1.38"
   ]
  },
  {
   "attachments": {},
   "cell_type": "markdown",
   "id": "dccdfd01",
   "metadata": {},
   "source": [
    "### 1. Lycos Dulwich"
   ]
  },
  {
   "cell_type": "code",
   "execution_count": 25,
   "id": "008b506d",
   "metadata": {},
   "outputs": [],
   "source": [
    "# Variables\n",
    "\n",
    "wti = 67.9\n",
    "diff = -11.4\n",
    "conversion = 6.28981\n",
    "fx = 1.399\n",
    "wadf = 0\n",
    "blending_uptick = 0\n",
    "pl_tariff = -7.83\n",
    "la = 0\n",
    "delivered_density = 936.9\n",
    "delivered_sulfur = 3.31\n",
    "distance = 42.59"
   ]
  },
  {
   "cell_type": "code",
   "execution_count": 26,
   "id": "4fbf8f6a",
   "metadata": {},
   "outputs": [
    {
     "data": {
      "text/plain": [
       "390.74359673500004"
      ]
     },
     "execution_count": 26,
     "metadata": {},
     "output_type": "execute_result"
    }
   ],
   "source": [
    "base_price = ((wti + diff) * conversion * fx) + wadf\n",
    "base_price_adjusted = base_price + blending_uptick\n",
    "sulfur_penalty = ((delivered_sulfur - 0.5)/0.1) * sulphur_equalization_factor\n",
    "density_penalty = (delivered_density-825) * density_equalization_factor\n",
    "eq = -(density_penalty + sulfur_penalty)\n",
    "trucking_charge = -(5.40 * distance) + 225\n",
    "netback = base_price_adjusted + eq + pl_tariff + trucking_charge + la\n",
    "netback"
   ]
  },
  {
   "attachments": {},
   "cell_type": "markdown",
   "id": "5cf1c824",
   "metadata": {},
   "source": [
    "### 2. Marlin Youngstown"
   ]
  },
  {
   "cell_type": "code",
   "execution_count": 29,
   "id": "7b6c4220",
   "metadata": {},
   "outputs": [],
   "source": [
    "# Variables\n",
    "\n",
    "wti = 67.9\n",
    "diff = -6\n",
    "conversion = 6.29287\n",
    "fx = 1.399\n",
    "wadf = 0\n",
    "blending_uptick = 18\n",
    "pl_tariff = -26.25\n",
    "la = 0\n",
    "delivered_density = 967.7\n",
    "delivered_sulfur = 3.6\n",
    "distance = 51.94"
   ]
  },
  {
   "cell_type": "code",
   "execution_count": 30,
   "id": "14e7b6bb",
   "metadata": {},
   "outputs": [
    {
     "data": {
      "text/plain": [
       "368.5215855470001"
      ]
     },
     "execution_count": 30,
     "metadata": {},
     "output_type": "execute_result"
    }
   ],
   "source": [
    "base_price = ((wti + diff) * conversion * fx) + wadf\n",
    "base_price_adjusted = base_price + blending_uptick\n",
    "sulfur_penalty = ((delivered_sulfur - 0.5)/0.1) * sulphur_equalization_factor\n",
    "density_penalty = (delivered_density-825) * density_equalization_factor\n",
    "eq = -(density_penalty + sulfur_penalty)\n",
    "trucking_charge = -(5.40 * distance) + 225\n",
    "netback = base_price_adjusted + eq + pl_tariff + trucking_charge + la\n",
    "netback"
   ]
  },
  {
   "attachments": {},
   "cell_type": "markdown",
   "id": "6adc9d6d",
   "metadata": {},
   "source": [
    "### 3. Marlin Fosterton"
   ]
  },
  {
   "cell_type": "code",
   "execution_count": 31,
   "id": "92837ee4",
   "metadata": {},
   "outputs": [],
   "source": [
    "# Variables\n",
    "\n",
    "wti = 67.9\n",
    "diff = -11\n",
    "conversion = 6.28981\n",
    "fx = 1.399\n",
    "wadf = 86.01\n",
    "blending_uptick = 0\n",
    "pl_tariff = -19.21\n",
    "la = -1.25\n",
    "delivered_density = 936.9\n",
    "delivered_sulfur = 3.31\n",
    "distance = 55.74"
   ]
  },
  {
   "cell_type": "code",
   "execution_count": 32,
   "id": "b7731a2b",
   "metadata": {},
   "outputs": [
    {
     "data": {
      "text/plain": [
       "396.63337441100003"
      ]
     },
     "execution_count": 32,
     "metadata": {},
     "output_type": "execute_result"
    }
   ],
   "source": [
    "base_price = ((wti + diff) * conversion * fx) + wadf\n",
    "base_price_adjusted = base_price + blending_uptick\n",
    "sulfur_penalty = ((delivered_sulfur - 0.5)/0.1) * sulphur_equalization_factor\n",
    "density_penalty = (delivered_density-825) * density_equalization_factor\n",
    "eq = -(density_penalty + sulfur_penalty)\n",
    "trucking_charge = -(5.40 * distance) + 225\n",
    "netback = base_price_adjusted + eq + pl_tariff + trucking_charge + la\n",
    "netback"
   ]
  },
  {
   "cell_type": "code",
   "execution_count": null,
   "id": "f8f0b198",
   "metadata": {},
   "outputs": [],
   "source": []
  },
  {
   "cell_type": "code",
   "execution_count": null,
   "id": "d91ff1dc",
   "metadata": {},
   "outputs": [],
   "source": []
  },
  {
   "cell_type": "code",
   "execution_count": null,
   "id": "300a8999",
   "metadata": {},
   "outputs": [],
   "source": []
  },
  {
   "cell_type": "code",
   "execution_count": null,
   "id": "0102d83c",
   "metadata": {},
   "outputs": [],
   "source": []
  },
  {
   "cell_type": "code",
   "execution_count": null,
   "id": "03d5ca3b",
   "metadata": {},
   "outputs": [],
   "source": [
    "F15 = 936.9\n",
    "C15 = 0.49\n",
    "\n",
    "density_penalty = (F15-825)*C15\n",
    "density_penalty"
   ]
  },
  {
   "cell_type": "code",
   "execution_count": null,
   "id": "fa24ffed",
   "metadata": {},
   "outputs": [],
   "source": []
  },
  {
   "cell_type": "code",
   "execution_count": null,
   "id": "11a27199",
   "metadata": {},
   "outputs": [],
   "source": [
    "\n",
    "\n",
    "# Constants\n",
    "density_actual = 832  \n",
    "sulfur_actual = 0.6\n",
    "density_ref = 825  \n",
    "sulfur_ref = 0.5  \n",
    "density_penalty_factor = 0.49  \n",
    "sulfur_penalty_factor = 1.38  \n",
    "\n",
    "\n",
    "density_scaling_factor = 15.99  \n",
    "sulfur_scaling_factor = 281.00  \n",
    "density_penalty = (density_actual - density_ref) * density_penalty_factor\n",
    "sulfur_penalty = (sulfur_actual - sulfur_ref) * sulfur_penalty_factor\n",
    "adjusted_density_penalty = density_penalty * density_scaling_factor\n",
    "adjusted_sulfur_penalty = sulfur_penalty * sulfur_scaling_factor\n",
    "adjusted_total_penalty = adjusted_density_penalty + adjusted_sulfur_penalty\n",
    "adjusted_density_penalty, adjusted_sulfur_penalty, adjusted_total_penalty\n"
   ]
  },
  {
   "cell_type": "code",
   "execution_count": null,
   "id": "08507485",
   "metadata": {},
   "outputs": [],
   "source": []
  },
  {
   "cell_type": "code",
   "execution_count": null,
   "id": "c3a1cca8",
   "metadata": {},
   "outputs": [],
   "source": []
  },
  {
   "cell_type": "code",
   "execution_count": null,
   "id": "e7d7b6b2",
   "metadata": {},
   "outputs": [],
   "source": []
  },
  {
   "cell_type": "code",
   "execution_count": null,
   "id": "28802de0",
   "metadata": {},
   "outputs": [],
   "source": []
  },
  {
   "cell_type": "code",
   "execution_count": null,
   "id": "e7fe72d1",
   "metadata": {},
   "outputs": [],
   "source": []
  },
  {
   "cell_type": "code",
   "execution_count": null,
   "id": "b17bc4f3",
   "metadata": {},
   "outputs": [],
   "source": [
    "density_actual = 832  # Actual density in kg/m³\n",
    "sulfur_actual = 0.6  # Actual sulfur content in wt%\n",
    "density_ref = 825  # Reference density in kg/m³\n",
    "sulfur_ref = 0.5  # Reference sulfur content in wt%\n",
    "density_penalty_factor = 0.49  # Penalty factor for density in CAD per kg/m³ per m³\n",
    "sulfur_penalty_factor = 1.38  # Penalty factor for sulfur in CAD per 0.1 wt% per m³\n",
    "\n",
    "# Scaling factors from the spreadsheet\n",
    "density_scaling_factor = 15.99  # Scaling factor for density penalty\n",
    "sulfur_scaling_factor = 281.00  # Scaling factor for sulfur penalty\n",
    "\n",
    "# Calculate raw penalties\n",
    "density_penalty = (density_actual - density_ref) * density_penalty_factor\n",
    "sulfur_penalty = (sulfur_actual - sulfur_ref) * sulfur_penalty_factor\n",
    "\n",
    "# Apply scaling factors\n",
    "adjusted_density_penalty = density_penalty * density_scaling_factor\n",
    "adjusted_sulfur_penalty = sulfur_penalty * sulfur_scaling_factor\n",
    "\n",
    "# Total penalty\n",
    "adjusted_total_penalty = adjusted_density_penalty + adjusted_sulfur_penalty\n",
    "\n",
    "# Output results\n",
    "print(adjusted_density_penalty, adjusted_sulfur_penalty, adjusted_total_penalty)\n"
   ]
  },
  {
   "cell_type": "code",
   "execution_count": null,
   "id": "d4693f26",
   "metadata": {},
   "outputs": [],
   "source": []
  },
  {
   "cell_type": "code",
   "execution_count": null,
   "id": "ac8cf92b",
   "metadata": {},
   "outputs": [],
   "source": []
  },
  {
   "cell_type": "code",
   "execution_count": null,
   "id": "b78ffd28",
   "metadata": {},
   "outputs": [],
   "source": []
  },
  {
   "cell_type": "code",
   "execution_count": null,
   "id": "bd58b6ae",
   "metadata": {},
   "outputs": [],
   "source": []
  },
  {
   "cell_type": "code",
   "execution_count": null,
   "id": "10c922e7",
   "metadata": {},
   "outputs": [],
   "source": [
    "# Input values\n",
    "density_actual = 832  # Actual density in kg/m³\n",
    "sulfur_actual = 0.6  # Actual sulfur content in wt%\n",
    "density_ref = 825  # Reference density in kg/m³\n",
    "sulfur_ref = 0.5  # Reference sulfur content in wt%\n",
    "density_penalty_factor = 0.49  # Penalty factor for density in CAD per kg/m³ per m³\n",
    "sulfur_penalty_factor = 1.38  # Penalty factor for sulfur in CAD per 0.1 wt% per m³\n",
    "reference_price = 200  # Example reference price in CAD (you can adjust this)\n",
    "\n",
    "# Calculation\n",
    "density_penalty = (density_actual - density_ref) * density_penalty_factor\n",
    "sulfur_penalty = (sulfur_actual - sulfur_ref) * sulfur_penalty_factor\n",
    "total_penalty = density_penalty + sulfur_penalty\n",
    "adjusted_price = reference_price - total_penalty\n",
    "\n",
    "# Output\n",
    "density_penalty, sulfur_penalty, total_penalty, adjusted_price"
   ]
  }
 ],
 "metadata": {
  "kernelspec": {
   "display_name": "Python 3 (ipykernel)",
   "language": "python",
   "name": "python3"
  },
  "language_info": {
   "codemirror_mode": {
    "name": "ipython",
    "version": 3
   },
   "file_extension": ".py",
   "mimetype": "text/x-python",
   "name": "python",
   "nbconvert_exporter": "python",
   "pygments_lexer": "ipython3",
   "version": "3.12.0"
  }
 },
 "nbformat": 4,
 "nbformat_minor": 5
}
